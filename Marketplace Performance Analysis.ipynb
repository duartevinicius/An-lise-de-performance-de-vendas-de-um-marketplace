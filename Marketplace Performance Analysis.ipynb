{
 "cells": [
  {
   "cell_type": "markdown",
   "metadata": {},
   "source": [
    "<h2 style=\"text-align: center\"> Marketplace Sales Performance Analysis</h2> \n",
    "<h3 style=\"text-align: center\">Período: 01 de Setembro a 31 de Outubro de 2018<br>\n",
    "    Responsável: Vinicius Duarte</h3>\n",
    "\n",
    "\n",
    "\n",
    "\n",
    "\n",
    "\n",
    "\n",
    "### Quantos usuários distintos realizaram compras no período? 22093\n",
    "<div style=\"font-style: italic\">\n",
    "select count(distinct id_user) as 'total_usuarios' from transaction;<br> </div>\n",
    "\n",
    "### Quantas compras foram realizadas? 34941\n",
    "\n",
    "<div style=\"font-style: italic\">select count(*) as 'numero_compras' from transaction;</div>\n",
    "\n",
    "\n",
    "### Quantos produtos foram comprados, agrupados por mês? \n",
    "\n",
    "<table>\n",
    "  <tr>\n",
    "    <th>Mes</th>\n",
    "    <th>Produtos comprados</th>\n",
    "  </tr>\n",
    "  <tr>\n",
    "    <td>9</td>\n",
    "    <td>23394</td>\n",
    "  </tr>\n",
    "  <tr>\n",
    "    <td>10</td>\n",
    "    <td>29017</td>\n",
    "  </tr>\n",
    "</table>\n",
    "<div style=\"font-style: italic\"><br>select month(insert_date) as 'mes', Count(id_product) as 'produtos_comprados' FROM sys.transaction, sys.product_order\n",
    "where transaction.id_transaction=product_order.id_transaction\n",
    "group by 1;\n",
    "</div>\n",
    "\n",
    "<h3> Analisando a quantidade vendida de cada produto e a sua variação de Setembro para Outubro</h3>\n",
    "\n",
    "A partir do comando:<br>\n",
    "\n",
    "<div style=\"font-style: italic\">SELECT distinct id_product as 'Product' from sys.product_order;</div><br>\n",
    "obtemos a lista dos 5 produtos ofertados no marketplace.\n",
    "\n",
    "<p>Depois, obtemos a quantidade de unidades vendidas de cada produto no mês de setembro, variando o valor do id_product da consulta de acordo com o produto de interesse.</p><br>\n",
    "\n",
    "<div style=\"font-style: italic\">Select count(*) from sys.product_order O \n",
    "inner join sys.transaction T<br>\n",
    "on O.id_transaction = T.id_transaction\n",
    "where O.id_product = 1039 and month(T.insert_date) = 9;</div>\n",
    "\n",
    "<p>Realizamos o mesmo para o mês de Outubro, alterando month(T.insert_date) para 10. Organizando as informações em uma tabela, obtemos:</p>\n",
    "<table>\n",
    "    <tr>\n",
    "    <caption>Unidades vendidas dos produtos dividido por mês</caption>\n",
    "    <th>Produto</th>\n",
    "    <th>Setembro</th>\n",
    "    <th>Outubro</th>\n",
    "    <th>Variação (%)</th>\n",
    "    </tr>\n",
    "    <tr><td>1039</td>\n",
    "        <td>4586</td>\n",
    "        <td>5884</td>\n",
    "        <td>28</td>\n",
    "    </tr>\n",
    "    <tr><td>12</td>\n",
    "        <td>4774</td>\n",
    "        <td>5807</td>\n",
    "        <td>22</td>\n",
    "    </tr>\n",
    "    <tr><td>10</td>\n",
    "        <td>4692</td>\n",
    "        <td>5683</td>\n",
    "        <td>21</td>\n",
    "    </tr>\n",
    "    <tr><td>132</td>\n",
    "        <td>4643</td>\n",
    "        <td>5818</td>\n",
    "        <td>25</td>\n",
    "    </tr>\n",
    "    <tr><td>154</td>\n",
    "        <td>4699</td>\n",
    "        <td>5825</td>\n",
    "        <td>24</td>\n",
    "    </tr>\n",
    "</table>\n",
    "\n",
    "<p>É possível visualizar que todos produtos apresentaram variação positiva entre Setembro e Outubro, denotando alta no volume de vendas.</p>\n",
    "\n",
    "### Analisando a sazonalidade\n",
    "\n",
    "select count(*) as 'vendas_semana' from transaction\n",
    "where weekday(insert_date)<5;\n",
    "<table>\n",
    "    <tr>\n",
    "    <th>vendas durante a semana</th>\n",
    "    </tr>\n",
    "    <tr><td>25592</td>\n",
    "    </tr>\n",
    "</table>\n",
    "\n",
    "- 25592\n",
    "\n",
    "select count(*) as 'vendas_fimdesemana' from transaction\n",
    "where weekday(insert_date)>=5;\n",
    "<table>\n",
    "    <tr>\n",
    "    <th>vendas durante fins de semana</th>\n",
    "    </tr>\n",
    "    <tr><td>9349</td>\n",
    "    </tr>\n",
    "</table>\n",
    "\n",
    "- 9349\n",
    "#### Fins de semana vendem mais que dias de semana? Não!\n",
    "\n",
    "#### Levando em consideração o calendário anual de 2018 abaixo, analisaremos o desempenho de vendas semanais. Iniciando da semana 35, até a semana 44.\n",
    "<img src=https://thumbs.dreamstime.com/b/calendário-anual-vermelho-99487433.jpg width=\"640px\">\n",
    "\n",
    "\n",
    "#### Houve alguma semana de pico? Sim, semana 41.\n",
    "select week(insert_date,6) as 'semana', count(*) as 'total de vendas' from transaction\n",
    "group by 1\n",
    "order by 2 desc limit 1;\n",
    "<table> \n",
    "    <caption style=\"font-style:italic\">Semana com pico de vendas</caption>\n",
    "    <tr>\n",
    "    <th>Semana</th>\n",
    "    <th>Total de vendas</th>\n",
    "    </tr>\n",
    "    <tr>\n",
    "        <td>41</td>\n",
    "        <td>5488</td>\n",
    "    </tr>\n",
    "\n",
    "</table>\n",
    "\n",
    "#### Algum período em específico se destacou? As 3 primeiras semanas de outubro apresentaram um volume alto e constante de vendas\n",
    "\n",
    "select week(insert_date,6) as 'semana', count(*) as 'total de vendas' from transaction\n",
    "group by 1\n",
    "order by 1 asc;\n",
    "<table> \n",
    "    <caption style=\"font-style:italic\">Resumo semanal de vendas</caption>\n",
    "    <tr>\n",
    "    <th>Semana</th>\n",
    "    <th>Total de vendas</th>\n",
    "    </tr>\n",
    "    <tr>\n",
    "        <td>35</td>\n",
    "        <td>396</td>\n",
    "    </tr>\n",
    "    <tr>\n",
    "        <td>36</td>\n",
    "        <td>4982</td>\n",
    "    </tr>\n",
    "    <tr>\n",
    "        <td>37</td>\n",
    "        <td>3326</td>\n",
    "    </tr>\n",
    "    <tr>\n",
    "        <td>38</td>\n",
    "        <td>3264</td>\n",
    "    </tr>\n",
    "    <tr>\n",
    "        <td>39</td>\n",
    "        <td>3222</td>\n",
    "    </tr>\n",
    "    <tr>\n",
    "        <td>40</td>\n",
    "        <td>3802</td>\n",
    "    </tr>\n",
    "    <tr>\n",
    "        <td>41</td>\n",
    "        <td>5488</td>\n",
    "    </tr>\n",
    "    <tr>\n",
    "        <td>42</td>\n",
    "        <td>4129</td>\n",
    "    </tr>\n",
    "    <tr>\n",
    "        <td>43</td>\n",
    "        <td>3668</td>\n",
    "    </tr>\n",
    "    <tr>\n",
    "        <td>44</td>\n",
    "        <td>2654</td>\n",
    "    </tr>\n",
    "\n",
    "</table>\n",
    "\n",
    "<p> A fim de ilustrar claramente a variação da distribuição de vendas neste período em relação ao das outras semanas, utilizaremos de um gráfico de barras, tendo no eixo X a semana e no eixo Y o total de compras efetuadas nesta semana. Importaremos um arquivo .csv com o resumo de vendas semanal do período em análise e transformaremos em um DataFrame de modo a facilitar a sua manipulação. Este arquivo está previamente ordenado pelo total de vendas. Iremos reordená-lo, desta vez, usando como critério a ordem das semanas.</p>"
   ]
  },
  {
   "cell_type": "code",
   "execution_count": 1,
   "metadata": {
    "scrolled": false
   },
   "outputs": [
    {
     "data": {
      "text/html": [
       "<div>\n",
       "<style scoped>\n",
       "    .dataframe tbody tr th:only-of-type {\n",
       "        vertical-align: middle;\n",
       "    }\n",
       "\n",
       "    .dataframe tbody tr th {\n",
       "        vertical-align: top;\n",
       "    }\n",
       "\n",
       "    .dataframe thead th {\n",
       "        text-align: right;\n",
       "    }\n",
       "</style>\n",
       "<table border=\"1\" class=\"dataframe\">\n",
       "  <thead>\n",
       "    <tr style=\"text-align: right;\">\n",
       "      <th></th>\n",
       "      <th>numero de vendas</th>\n",
       "      <th>porcentagem</th>\n",
       "    </tr>\n",
       "    <tr>\n",
       "      <th>semana</th>\n",
       "      <th></th>\n",
       "      <th></th>\n",
       "    </tr>\n",
       "  </thead>\n",
       "  <tbody>\n",
       "    <tr>\n",
       "      <th>35</th>\n",
       "      <td>396</td>\n",
       "      <td>1.13</td>\n",
       "    </tr>\n",
       "    <tr>\n",
       "      <th>36</th>\n",
       "      <td>4982</td>\n",
       "      <td>14.26</td>\n",
       "    </tr>\n",
       "    <tr>\n",
       "      <th>37</th>\n",
       "      <td>3336</td>\n",
       "      <td>9.55</td>\n",
       "    </tr>\n",
       "    <tr>\n",
       "      <th>38</th>\n",
       "      <td>3264</td>\n",
       "      <td>9.34</td>\n",
       "    </tr>\n",
       "    <tr>\n",
       "      <th>39</th>\n",
       "      <td>3222</td>\n",
       "      <td>9.22</td>\n",
       "    </tr>\n",
       "    <tr>\n",
       "      <th>40</th>\n",
       "      <td>3802</td>\n",
       "      <td>10.88</td>\n",
       "    </tr>\n",
       "    <tr>\n",
       "      <th>41</th>\n",
       "      <td>5488</td>\n",
       "      <td>15.71</td>\n",
       "    </tr>\n",
       "    <tr>\n",
       "      <th>42</th>\n",
       "      <td>4129</td>\n",
       "      <td>11.82</td>\n",
       "    </tr>\n",
       "    <tr>\n",
       "      <th>43</th>\n",
       "      <td>3668</td>\n",
       "      <td>10.50</td>\n",
       "    </tr>\n",
       "    <tr>\n",
       "      <th>44</th>\n",
       "      <td>2654</td>\n",
       "      <td>7.60</td>\n",
       "    </tr>\n",
       "  </tbody>\n",
       "</table>\n",
       "</div>"
      ],
      "text/plain": [
       "        numero de vendas  porcentagem\n",
       "semana                               \n",
       "35                   396         1.13\n",
       "36                  4982        14.26\n",
       "37                  3336         9.55\n",
       "38                  3264         9.34\n",
       "39                  3222         9.22\n",
       "40                  3802        10.88\n",
       "41                  5488        15.71\n",
       "42                  4129        11.82\n",
       "43                  3668        10.50\n",
       "44                  2654         7.60"
      ]
     },
     "execution_count": 1,
     "metadata": {},
     "output_type": "execute_result"
    }
   ],
   "source": [
    "import pandas as pd\n",
    "import seaborn as sns\n",
    "import matplotlib.pyplot as plt\n",
    "#sns.set()\n",
    "#sns.set_style(\"darkgrid\")\n",
    "plt.style.use(('grayscale'))\n",
    "venda_semanal=pd.read_csv('sazonalidade.csv', index_col=0)\n",
    "venda_semanal.sort_values(by=['semana']).plot.bar()\n",
    "plt.title('Grafico 1. Desempenho de vendas do marketplace agrupados por semana')\n",
    "\n",
    "total_vendas=sum(venda_semanal['numero de vendas'])\n",
    "for lab, row in venda_semanal.iterrows() :\n",
    "    venda_semanal.loc[lab, 'porcentagem']=round(row['numero de vendas']/total_vendas*100,2)\n",
    "    \n",
    "venda_semanal.sort_values(by=['semana'])\n",
    "\n"
   ]
  },
  {
   "cell_type": "markdown",
   "metadata": {},
   "source": [
    "O gráfico permite visualizar que as <span style=\"font-weight:bold\"> 3 primeiras semanas de outubro juntas, representam mais de um terço do total de vendas do período</span>."
   ]
  },
  {
   "cell_type": "markdown",
   "metadata": {},
   "source": [
    "### Verificando a variação do desempenho da empresa D entre Setembro e Outubro\n",
    "\n",
    "<p>Como esclarecido pelo gráfico 2, o desempenho geral de vendas da Empresa D foi melhor no mês de Outubro.</p>"
   ]
  },
  {
   "cell_type": "code",
   "execution_count": 2,
   "metadata": {
    "scrolled": true
   },
   "outputs": [
    {
     "data": {
      "image/png": "[encoded data removed]",
      "text/plain": [
       "<Figure size 432x288 with 1 Axes>"
      ]
     },
     "metadata": {},
     "output_type": "display_data"
    }
   ],
   "source": [
    "import pandas as pd\n",
    "import pandas as pd\n",
    "import seaborn as sns\n",
    "import matplotlib.pyplot as plt\n",
    "import numpy as np\n",
    "#-- vendas de setembro\n",
    "#select id_transaction as'codigo_venda', insert_date as 'data' , value as 'total'  from transaction t \n",
    "#where id_sales_unit=10 and month(insert_date)=9\n",
    "#order by insert_date;\n",
    "\n",
    "#vendas de outubro\n",
    "#select id_transaction as'codigo_venda', insert_date as 'data' , value as 'total'  from transaction t \n",
    "#where id_sales_unit=10 and month(insert_date)=10\n",
    "#order by insert_date;\n",
    "\n",
    "\n",
    "vendas_setembro=pd.read_csv('empresa10vendassetembro.csv', parse_dates=[1])\n",
    "vendas_outubro=pd.read_csv('empresa10vendasoutubro.csv', parse_dates=[1])\n",
    "\n",
    "total_mensal =np.array([vendas_setembro['codigo_venda'].count(),vendas_outubro['codigo_venda'].count()])\n",
    "plt.style.use(('dark_background'))\n",
    "\n",
    "plt.barh(['Setembro', 'Outubro'], total_mensal, align='center', alpha=0.5)\n",
    "plt.xlabel('Total de vendas')\n",
    "plt.title('Grafico 2. Total de vendas na Empresa D')\n",
    "plt.show()"
   ]
  },
  {
   "cell_type": "markdown",
   "metadata": {},
   "source": [
    "<p> Indo mais a fundo, percebemos que <span style=\"font-weight:bold\"> a semana de pico de outubro, também teve desempenho superior em relação a semana de maior quantidade de vendas de Setembro</span>. Essa variação considerável pode estar relacionada com alguns fatores.</p>\n",
    "<p> A segunda semana de Outubro, semana 41, precedeu o feriado do Dia das Crianças o que seria uma boa justificativa para o aumento no volume de vendas. Além disso, o ambiente de incerteza pré primeiro turno das Eleições Presidenciais impactou no valor de câmbio do Dólar, causando significante desvalorização deste. Em um cenário onde produtos ofertados pela Empresa D fossem impactados diretamente pela taxa de câmbio, seja no seu valor, ou no valor do frete, uma queda no valor do dólar certamente impulsionaria um volume maior de compras.</p>"
   ]
  },
  {
   "cell_type": "code",
   "execution_count": 3,
   "metadata": {},
   "outputs": [
    {
     "data": {
      "text/plain": [
       "Text(0.5, 1.0, 'Grafico 3. Semanas de pico de cada mês')"
      ]
     },
     "execution_count": 3,
     "metadata": {},
     "output_type": "execute_result"
    },
    {
     "data": {
      "image/png": "[encoded data removed]",
      "text/plain": [
       "<Figure size 432x288 with 1 Axes>"
      ]
     },
     "metadata": {},
     "output_type": "display_data"
    }
   ],
   "source": [
    "#Melhor semana de setembro\n",
    "#select week(insert_date,6) as 'semana', count(*) as 'total de vendas' from transaction t\n",
    "#where month(insert_date)=9\n",
    "#group by week(insert_date,6)\n",
    "#order by 2 desc limit 1;\n",
    "\n",
    "#Melhor semana de Outubro\n",
    "#select week(insert_date,6) as 'semana', count(*) as 'total de vendas' from transaction t\n",
    "#where month(insert_date)=10\n",
    "#group by week(insert_date,6)\n",
    "#order by 2 desc limit 1;\n",
    "\n",
    "melhorSemanaOutubro=pd.read_csv('empresa10melhorsemana10.csv') \n",
    "melhorSemanaSetembro=pd.read_csv('empresa10melhorsemana9.csv')\n",
    "melhorSemana=melhorSemanaSetembro.append(melhorSemanaOutubro)\n",
    "sns.barplot(x='semana', y='total de vendas', data=melhorSemana)\n",
    "plt.title('Grafico 3. Semanas de pico de cada mês')"
   ]
  },
  {
   "cell_type": "markdown",
   "metadata": {},
   "source": [
    "<p> Buscando estratégias para melhorar o desempenho, me ative a outros indicadores. Obtemos o montante de todas as vendas e tentamos, a princípio, utilizar um histograma para observar a distribuição dos valores das compras.No entanto, dado o grande volume de dados, a visualização dos dados foi comprometida. Como alternativa, utilizaremos de um rugplot a fim de se analizar de maneira melhor <span style=\"font-weight:bold\">Percebemos que uma grande maioria das compras posuem valor variando entre 150 e 250,</span> denunciando que a maioria das compras tem um valor total alto. Com isto em vista, aplicar politicas como diminuição do valor do frete em compras acima de certo valor  e/ou descontos progressivos de acordo com o valor da compra pode ser uma boa opção de incentivo aos clientes, sobretudo nas ultimas semanas do mês, onde o volume de vendas costuma ser menor em relação as primeiras semanas, nas quais a grande maioria das pessoas recebem seu salário</p>\n"
   ]
  },
  {
   "cell_type": "code",
   "execution_count": 4,
   "metadata": {},
   "outputs": [
    {
     "data": {
      "text/plain": [
       "Text(0.5, 0, 'Valor total da compra em $')"
      ]
     },
     "execution_count": 4,
     "metadata": {},
     "output_type": "execute_result"
    },
    {
     "data": {
      "image/png": "[encoded data removed]",
      "text/plain": [
       "<Figure size 432x288 with 1 Axes>"
      ]
     },
     "metadata": {},
     "output_type": "display_data"
    }
   ],
   "source": [
    "#Grafico 4. Histograma/Screeplot dos valores ds vendas\n",
    "#SELECT value from transaction t\n",
    "#WHERE t.id_sales_unit=10;\n",
    "\n",
    "\n",
    "import numpy as np\n",
    "valores = pd.read_csv('empresa10valorcompra.csv')\n",
    "npvalores=valores.values\n",
    "sns.rugplot(npvalores)\n",
    "plt.title('Grafico 4. Rugplot dos vaores das vendas.')\n",
    "plt.xlabel('Valor total da compra em $')\n",
    "\n"
   ]
  },
  {
   "cell_type": "markdown",
   "metadata": {},
   "source": [
    "<p> Direcionando a análise para o comportamento do cliente, <span style=\"font-weight:bold\">verificamos que clientes reincidentes são uma porção majoritária</span>, como pode ser constatado com o comando:</p> select id_user as 'cliente', count(*) as 'compras' from transaction t\n",
    "where t.id_sales_unit=10\n",
    "group by id_user\n",
    "order by count(*) desc;\n",
    "<br>\n",
    "\n"
   ]
  },
  {
   "cell_type": "markdown",
   "metadata": {},
   "source": [
    "\n",
    "<p>Elencamos, também, os produtos mais vendidas da Empresa 10.</p><br>"
   ]
  },
  {
   "cell_type": "code",
   "execution_count": 5,
   "metadata": {},
   "outputs": [
    {
     "data": {
      "text/plain": [
       "Text(0.5, 0, 'Unidades vendidas')"
      ]
     },
     "execution_count": 5,
     "metadata": {},
     "output_type": "execute_result"
    },
    {
     "data": {
      "image/png": "[encoded data removed]",
      "text/plain": [
       "<Figure size 432x288 with 1 Axes>"
      ]
     },
     "metadata": {},
     "output_type": "display_data"
    }
   ],
   "source": [
    "#select p.id_product as 'produto' , count(*) as 'unidades_vendidas' from product_order p\n",
    "#join transaction t on p.id_transaction=t.id_transaction\n",
    "#WHERE t.id_sales_unit=10\n",
    "#group by 1\n",
    "#order by 2 desc limit 3;\n",
    "\n",
    "produtosMaisVendidos=pd.read_csv('empresa10produtosmaisvendidos.csv')\n",
    "sns.barplot(y='produto', x='unidades_vendidas', data=produtosMaisVendidos, orient='h')\n",
    "plt.title('Grafico 5. Produtos mais vendidos na Empresa D')\n",
    "plt.ylabel('Codigo do produto')\n",
    "plt.xlabel('Unidades vendidas')\n"
   ]
  },
  {
   "cell_type": "markdown",
   "metadata": {},
   "source": [
    "<p>Somando essas duas informações e com o objetivo de se conhecer melhor o comportamento dos clientes, a Empresa D poderia adicionar mais uma coluna na tabela product, a coluna categorias. Agrupando os produtos oferecidos na loja por categoria, facilitaria a identificação de perfis de compra dos clientes, verificando quais categorias são adquiridas com mais frequência por cada cliente. Desta forma, se é explícito que um cliente tem preferência por produtos da categoria de vestimentas e calçados, por exemplo, torna-se mais assertivo direcionamento de campanhas de marketing, aumentando a probabilidade de concretização de compras. Além disso, o cliente tem a sensação de receber um serviço personalizado, adequado com suas expectativas, sendo mais um ponto positivo na sua decisão de onde comprar.</p>"
   ]
  }
 ],
 "metadata": {
  "kernelspec": {
   "display_name": "Python 3",
   "language": "python",
   "name": "python3"
  },
  "language_info": {
   "codemirror_mode": {
    "name": "ipython",
    "version": 3
   },
   "file_extension": ".py",
   "mimetype": "text/x-python",
   "name": "python",
   "nbconvert_exporter": "python",
   "pygments_lexer": "ipython3",
   "version": "3.7.1"
  }
 },
 "nbformat": 4,
 "nbformat_minor": 2
}
